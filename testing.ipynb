{
 "cells": [
  {
   "cell_type": "code",
   "execution_count": 5,
   "id": "a9853b28-d4a2-4b89-a1eb-31ef81db5527",
   "metadata": {
    "execution": {
     "iopub.execute_input": "2024-05-02T20:20:08.499263Z",
     "iopub.status.busy": "2024-05-02T20:20:08.499059Z",
     "iopub.status.idle": "2024-05-02T20:20:08.501828Z",
     "shell.execute_reply": "2024-05-02T20:20:08.501374Z",
     "shell.execute_reply.started": "2024-05-02T20:20:08.499246Z"
    }
   },
   "outputs": [],
   "source": [
    "import torch\n",
    "import lightning as l\n",
    "import transformers"
   ]
  },
  {
   "cell_type": "code",
   "execution_count": 6,
   "id": "7e7c016c-5e24-497f-a4c5-363cd33cecf5",
   "metadata": {
    "execution": {
     "iopub.execute_input": "2024-05-02T20:20:09.183465Z",
     "iopub.status.busy": "2024-05-02T20:20:09.183241Z",
     "iopub.status.idle": "2024-05-02T20:20:09.186468Z",
     "shell.execute_reply": "2024-05-02T20:20:09.186130Z",
     "shell.execute_reply.started": "2024-05-02T20:20:09.183450Z"
    }
   },
   "outputs": [
    {
     "data": {
      "text/plain": [
       "True"
      ]
     },
     "execution_count": 6,
     "metadata": {},
     "output_type": "execute_result"
    }
   ],
   "source": [
    "torch.cuda.is_available()"
   ]
  },
  {
   "cell_type": "code",
   "execution_count": 7,
   "id": "feaa3896-55c0-428b-b767-50670d6115cd",
   "metadata": {
    "execution": {
     "iopub.execute_input": "2024-05-02T20:27:40.308596Z",
     "iopub.status.busy": "2024-05-02T20:27:40.308157Z",
     "iopub.status.idle": "2024-05-02T20:27:40.311734Z",
     "shell.execute_reply": "2024-05-02T20:27:40.311321Z",
     "shell.execute_reply.started": "2024-05-02T20:27:40.308572Z"
    }
   },
   "outputs": [
    {
     "name": "stdout",
     "output_type": "stream",
     "text": [
      "Done!\n"
     ]
    }
   ],
   "source": [
    "print('Done!')"
   ]
  },
  {
   "cell_type": "code",
   "execution_count": null,
   "id": "00b4639c-a650-41cb-84a7-667dad62f3a2",
   "metadata": {},
   "outputs": [],
   "source": []
  },
  {
   "cell_type": "code",
   "execution_count": null,
   "id": "12fee45d-a69f-4e18-9dfd-6c476407aff6",
   "metadata": {},
   "outputs": [],
   "source": []
  }
 ],
 "metadata": {
  "kernelspec": {
   "display_name": "Python 3 (ipykernel)",
   "language": "python",
   "name": "python3"
  },
  "language_info": {
   "codemirror_mode": {
    "name": "ipython",
    "version": 3
   },
   "file_extension": ".py",
   "mimetype": "text/x-python",
   "name": "python",
   "nbconvert_exporter": "python",
   "pygments_lexer": "ipython3",
   "version": "3.10.6"
  }
 },
 "nbformat": 4,
 "nbformat_minor": 5
}
